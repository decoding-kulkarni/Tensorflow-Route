import tensorflow as tf
print(tf.__version__)

import os
os.environ["TF_CPP_MIN_LOG_LEVEL"]="2"

x = tf.constant(4)
print (x)

x = tf.constant(4, shape=(1,1), dtype= tf.float32)
print (x)

x = tf.constant([1,2,3,4])
print (x)

x = tf.constant([[1,2,3],[4,5,6]])
print (x)

x = tf.ones((3,3))
print (x)

x = tf.zeros((3,3))
print (x)

x = tf.eye(7)
print (x)

x = tf.random.normal((7,7), mean=0, stddev=1)
print(x)

x = tf.random.uniform((7,7), minval=0, maxval=1)
print(x)

tf.range(7)

x= tf.cast(x, dtype= tf.float32)
print(x)

# **operations on tensors**


operations are element wise

x = tf.random.normal((2,2))
print(x)

y = tf.random.normal((2,2))
print (y)

print("\n\n\n\n\n\ ")
z= tf.matmul(x,y)
print(z)
