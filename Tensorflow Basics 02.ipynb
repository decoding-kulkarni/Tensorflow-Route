import tensorflow as tf
from tensorflow import keras 

mnist= keras.datasets.mnist

(x_train, y_train), (x_test, y_test)= mnist.load_data() #the function returns to tuples

#pictures in this category range from 0-255... 256 values per RGB
#to normalize those values, let's divide them by 255.0

x_train, x_test = x_train/255.0, x_test/255.0

model= keras.models.Sequential([
                               keras.layers.Flatten(input_shape=(28,28)),
                               keras.layers.Dense(128, activation="relu"),
                               keras.layers.Dense(10),
                               ])

print(model.summary())

loss = keras.losses.SparseCategoricalCrossentropy(from_logits=True)
optim= keras.optimizers.Adam(learning_rate=0.001)
metric=["accuracy"]

model.compile(loss=loss, optimizer=optim, metrics=metric)

#set the batch size and the number of epochs

batch_size=32
epochs=25

model.fit(x_train, y_train, batch_size=batch_size, epochs= epochs, shuffle=True, verbose=2)

**evaluate the model**

model.evaluate(x_test, y_test, batch_size=batch_size, verbose=2)

**predictions from the model**

import numpy as np  #insert this statement in the 1st cell itself

probability_model= keras.models.Sequential([
                                            model,
                                            keras.layers.Softmax()
])

predictions= probability_model(x_test)
pred0= predictions[0]
print(pred0)

label0= np.argmax(pred0)

print(label0)

**Predictions + Softmax**

predictions= model.predict(x_test, batch_size=batch_size)
predictions= tf.nn.softmax(predictions) 
pred0= predictions[0]
print(pred0)

label0= np.argmax(pred0)

print(label0)

pred05s= predictions[0:5]
print(pred05s.shape)
label05s= np.argmax(pred05s, axis=1)

print(label05s)

