{
  "nbformat": 4,
  "nbformat_minor": 0,
  "metadata": {
    "colab": {
      "name": "Tensorflow Basics-02.ipynb",
      "provenance": [],
      "collapsed_sections": []
    },
    "kernelspec": {
      "name": "python3",
      "display_name": "Python 3"
    },
    "language_info": {
      "name": "python"
    }
  },
  "cells": [
    {
      "cell_type": "code",
      "execution_count": 3,
      "metadata": {
        "id": "nMywFhQodi6Q"
      },
      "outputs": [],
      "source": [
        "import tensorflow as tf\n",
        "from tensorflow import keras "
      ]
    },
    {
      "cell_type": "code",
      "source": [
        "mnist= keras.datasets.mnist\n",
        "\n",
        "(x_train, y_train), (x_test, y_test)= mnist.load_data() #the function returns to tuples\n",
        "\n",
        "#pictures in this category range from 0-255... 256 values per RGB\n",
        "#to normalize those values, let's divide them by 255.0\n",
        "\n",
        "x_train, x_test = x_train/255.0, x_test/255.0\n",
        "\n",
        "model= keras.models.Sequential([\n",
        "                               keras.layers.Flatten(input_shape=(28,28)),\n",
        "                               keras.layers.Dense(128, activation=\"relu\"),\n",
        "                               keras.layers.Dense(10),\n",
        "                               ])\n",
        "\n",
        "print(model.summary())"
      ],
      "metadata": {
        "colab": {
          "base_uri": "https://localhost:8080/"
        },
        "id": "ZCPXfz20eVi6",
        "outputId": "ec3be650-5f1c-4a73-a6a6-6e92d301b0b7"
      },
      "execution_count": 9,
      "outputs": [
        {
          "output_type": "stream",
          "name": "stdout",
          "text": [
            "Model: \"sequential_1\"\n",
            "_________________________________________________________________\n",
            " Layer (type)                Output Shape              Param #   \n",
            "=================================================================\n",
            " flatten_1 (Flatten)         (None, 784)               0         \n",
            "                                                                 \n",
            " dense_2 (Dense)             (None, 128)               100480    \n",
            "                                                                 \n",
            " dense_3 (Dense)             (None, 10)                1290      \n",
            "                                                                 \n",
            "=================================================================\n",
            "Total params: 101,770\n",
            "Trainable params: 101,770\n",
            "Non-trainable params: 0\n",
            "_________________________________________________________________\n",
            "None\n"
          ]
        }
      ]
    },
    {
      "cell_type": "code",
      "source": [
        "loss = keras.losses.SparseCategoricalCrossentropy(from_logits=True)\n",
        "optim= keras.optimizers.Adam(learning_rate=0.001)\n",
        "metric=[\"accuracy\"]\n",
        "\n",
        "model.compile(loss=loss, optimizer=optim, metrics=metric)\n",
        "\n",
        "#set the batch size and the number of epochs\n",
        "\n",
        "batch_size=32\n",
        "epochs=25\n",
        "\n",
        "model.fit(x_train, y_train, batch_size=batch_size, epochs= epochs, shuffle=True, verbose=2)"
      ],
      "metadata": {
        "colab": {
          "base_uri": "https://localhost:8080/"
        },
        "id": "izenRQrYjc0D",
        "outputId": "5ea59985-0a83-48c6-a757-b344eeac91be"
      },
      "execution_count": 16,
      "outputs": [
        {
          "output_type": "stream",
          "name": "stdout",
          "text": [
            "Epoch 1/25\n",
            "1875/1875 - 5s - loss: 0.1278 - accuracy: 0.9635 - 5s/epoch - 2ms/step\n",
            "Epoch 2/25\n",
            "1875/1875 - 4s - loss: 0.1267 - accuracy: 0.9635 - 4s/epoch - 2ms/step\n",
            "Epoch 3/25\n",
            "1875/1875 - 4s - loss: 0.1255 - accuracy: 0.9634 - 4s/epoch - 2ms/step\n",
            "Epoch 4/25\n",
            "1875/1875 - 4s - loss: 0.1245 - accuracy: 0.9640 - 4s/epoch - 2ms/step\n",
            "Epoch 5/25\n",
            "1875/1875 - 4s - loss: 0.1241 - accuracy: 0.9641 - 4s/epoch - 2ms/step\n",
            "Epoch 6/25\n",
            "1875/1875 - 4s - loss: 0.1231 - accuracy: 0.9642 - 4s/epoch - 2ms/step\n",
            "Epoch 7/25\n",
            "1875/1875 - 4s - loss: 0.1223 - accuracy: 0.9646 - 4s/epoch - 2ms/step\n",
            "Epoch 8/25\n",
            "1875/1875 - 4s - loss: 0.1215 - accuracy: 0.9643 - 4s/epoch - 2ms/step\n",
            "Epoch 9/25\n",
            "1875/1875 - 4s - loss: 0.1203 - accuracy: 0.9652 - 4s/epoch - 2ms/step\n",
            "Epoch 10/25\n",
            "1875/1875 - 4s - loss: 0.1198 - accuracy: 0.9652 - 4s/epoch - 2ms/step\n",
            "Epoch 11/25\n",
            "1875/1875 - 4s - loss: 0.1191 - accuracy: 0.9654 - 4s/epoch - 2ms/step\n",
            "Epoch 12/25\n",
            "1875/1875 - 4s - loss: 0.1185 - accuracy: 0.9655 - 4s/epoch - 2ms/step\n",
            "Epoch 13/25\n",
            "1875/1875 - 4s - loss: 0.1175 - accuracy: 0.9660 - 4s/epoch - 2ms/step\n",
            "Epoch 14/25\n",
            "1875/1875 - 4s - loss: 0.1168 - accuracy: 0.9659 - 4s/epoch - 2ms/step\n",
            "Epoch 15/25\n",
            "1875/1875 - 4s - loss: 0.1166 - accuracy: 0.9663 - 4s/epoch - 2ms/step\n",
            "Epoch 16/25\n",
            "1875/1875 - 4s - loss: 0.1162 - accuracy: 0.9663 - 4s/epoch - 2ms/step\n",
            "Epoch 17/25\n",
            "1875/1875 - 4s - loss: 0.1148 - accuracy: 0.9670 - 4s/epoch - 2ms/step\n",
            "Epoch 18/25\n",
            "1875/1875 - 4s - loss: 0.1143 - accuracy: 0.9668 - 4s/epoch - 2ms/step\n",
            "Epoch 19/25\n",
            "1875/1875 - 4s - loss: 0.1140 - accuracy: 0.9674 - 4s/epoch - 2ms/step\n",
            "Epoch 20/25\n",
            "1875/1875 - 4s - loss: 0.1131 - accuracy: 0.9674 - 4s/epoch - 2ms/step\n",
            "Epoch 21/25\n",
            "1875/1875 - 4s - loss: 0.1124 - accuracy: 0.9674 - 4s/epoch - 2ms/step\n",
            "Epoch 22/25\n",
            "1875/1875 - 4s - loss: 0.1118 - accuracy: 0.9677 - 4s/epoch - 2ms/step\n",
            "Epoch 23/25\n",
            "1875/1875 - 4s - loss: 0.1113 - accuracy: 0.9678 - 4s/epoch - 2ms/step\n",
            "Epoch 24/25\n",
            "1875/1875 - 4s - loss: 0.1105 - accuracy: 0.9685 - 4s/epoch - 2ms/step\n",
            "Epoch 25/25\n",
            "1875/1875 - 4s - loss: 0.1102 - accuracy: 0.9681 - 4s/epoch - 2ms/step\n"
          ]
        },
        {
          "output_type": "execute_result",
          "data": {
            "text/plain": [
              "<keras.callbacks.History at 0x7f3069bb3a10>"
            ]
          },
          "metadata": {},
          "execution_count": 16
        }
      ]
    },
    {
      "cell_type": "markdown",
      "source": [
        "**evaluate the model**"
      ],
      "metadata": {
        "id": "K48I7TN3qe6Y"
      }
    },
    {
      "cell_type": "code",
      "source": [
        "model.evaluate(x_test, y_test, batch_size=batch_size, verbose=2)"
      ],
      "metadata": {
        "colab": {
          "base_uri": "https://localhost:8080/"
        },
        "id": "xu3KtraZqNnV",
        "outputId": "20531106-aade-4c24-ec8e-857a742fd626"
      },
      "execution_count": 17,
      "outputs": [
        {
          "output_type": "stream",
          "name": "stdout",
          "text": [
            "313/313 - 1s - loss: 0.2624 - accuracy: 0.9506 - 565ms/epoch - 2ms/step\n"
          ]
        },
        {
          "output_type": "execute_result",
          "data": {
            "text/plain": [
              "[0.26243868470191956, 0.9506000280380249]"
            ]
          },
          "metadata": {},
          "execution_count": 17
        }
      ]
    },
    {
      "cell_type": "markdown",
      "source": [
        "**predictions from the model**"
      ],
      "metadata": {
        "id": "B4RyrhDjqmOL"
      }
    },
    {
      "cell_type": "code",
      "source": [
        "import numpy as np  #insert this statement in the 1st cell itself\n",
        "\n",
        "probability_model= keras.models.Sequential([\n",
        "                                            model,\n",
        "                                            keras.layers.Softmax()\n",
        "])\n",
        "\n",
        "predictions= probability_model(x_test)\n",
        "pred0= predictions[0]\n",
        "print(pred0)\n",
        "\n",
        "label0= np.argmax(pred0)\n",
        "\n",
        "print(label0)"
      ],
      "metadata": {
        "colab": {
          "base_uri": "https://localhost:8080/"
        },
        "id": "ALWSNK6jqbG3",
        "outputId": "5ddd96e0-7fb1-4a9b-eb58-b7f846a527ad"
      },
      "execution_count": 18,
      "outputs": [
        {
          "output_type": "stream",
          "name": "stdout",
          "text": [
            "tf.Tensor(\n",
            "[2.9394513e-20 3.5001633e-06 6.3850224e-05 1.2203665e-04 1.0627135e-17\n",
            " 3.7094921e-08 6.2748312e-20 9.9981052e-01 1.8413729e-18 5.7933000e-18], shape=(10,), dtype=float32)\n",
            "7\n"
          ]
        }
      ]
    },
    {
      "cell_type": "markdown",
      "source": [
        "**Predictions + Softmax**"
      ],
      "metadata": {
        "id": "6Il7oVKwsU9u"
      }
    },
    {
      "cell_type": "code",
      "source": [
        "predictions= model.predict(x_test, batch_size=batch_size)\n",
        "predictions= tf.nn.softmax(predictions) \n",
        "pred0= predictions[0]\n",
        "print(pred0)\n",
        "\n",
        "label0= np.argmax(pred0)\n",
        "\n",
        "print(label0)\n",
        "\n",
        "pred05s= predictions[0:5]\n",
        "print(pred05s.shape)\n",
        "label05s= np.argmax(pred05s, axis=1)\n",
        "\n",
        "print(label05s)\n",
        "\n"
      ],
      "metadata": {
        "colab": {
          "base_uri": "https://localhost:8080/"
        },
        "id": "o7p243K7sUIM",
        "outputId": "f18fb363-8853-4641-cd51-3f28ed76979c"
      },
      "execution_count": 19,
      "outputs": [
        {
          "output_type": "stream",
          "name": "stdout",
          "text": [
            "tf.Tensor(\n",
            "[2.9394513e-20 3.5001633e-06 6.3850224e-05 1.2203665e-04 1.0627135e-17\n",
            " 3.7094921e-08 6.2748312e-20 9.9981052e-01 1.8413729e-18 5.7933000e-18], shape=(10,), dtype=float32)\n",
            "7\n",
            "(5, 10)\n",
            "[7 2 1 0 4]\n"
          ]
        }
      ]
    }
  ]
}